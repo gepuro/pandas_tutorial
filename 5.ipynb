{
 "metadata": {
  "language_info": {
   "codemirror_mode": {
    "name": "ipython",
    "version": 3
   },
   "file_extension": ".py",
   "mimetype": "text/x-python",
   "name": "python",
   "nbconvert_exporter": "python",
   "pygments_lexer": "ipython3",
   "version": "3.9.0"
  },
  "orig_nbformat": 2,
  "kernelspec": {
   "name": "python390jvsc74a57bd084a6b55ad9bb292c3347443411afebca6c1b86b6e49fef5c15a9cce344bc37b9",
   "display_name": "Python 3.9.0 64-bit ('.venv': poetry)"
  }
 },
 "nbformat": 4,
 "nbformat_minor": 2,
 "cells": [
  {
   "cell_type": "code",
   "execution_count": 1,
   "metadata": {},
   "outputs": [],
   "source": [
    "import pandas as pd\n",
    "df = pd.read_csv(\"./survey_results_public.csv\")"
   ]
  },
  {
   "cell_type": "code",
   "execution_count": 3,
   "metadata": {},
   "outputs": [
    {
     "output_type": "execute_result",
     "data": {
      "text/plain": [
       "   Respondent                                         MainBranch Hobbyist  \\\n",
       "0           1                     I am a developer by profession      Yes   \n",
       "1           2                     I am a developer by profession       No   \n",
       "2           3                        I code primarily as a hobby      Yes   \n",
       "3           4                     I am a developer by profession      Yes   \n",
       "4           5  I used to be a developer by profession, but no...      Yes   \n",
       "\n",
       "    Age Age1stCode CompFreq  CompTotal  ConvertedComp             Country  \\\n",
       "0   NaN         13  Monthly        NaN            NaN             Germany   \n",
       "1   NaN         19      NaN        NaN            NaN      United Kingdom   \n",
       "2   NaN         15      NaN        NaN            NaN  Russian Federation   \n",
       "3  25.0         18      NaN        NaN            NaN             Albania   \n",
       "4  31.0         16      NaN        NaN            NaN       United States   \n",
       "\n",
       "     CurrencyDesc  ...                  SurveyEase           SurveyLength  \\\n",
       "0   European Euro  ...  Neither easy nor difficult  Appropriate in length   \n",
       "1  Pound sterling  ...                         NaN                    NaN   \n",
       "2             NaN  ...  Neither easy nor difficult  Appropriate in length   \n",
       "3    Albanian lek  ...                         NaN                    NaN   \n",
       "4             NaN  ...                        Easy              Too short   \n",
       "\n",
       "  Trans                                     UndergradMajor  \\\n",
       "0    No  Computer science, computer engineering, or sof...   \n",
       "1   NaN  Computer science, computer engineering, or sof...   \n",
       "2   NaN                                                NaN   \n",
       "3    No  Computer science, computer engineering, or sof...   \n",
       "4    No  Computer science, computer engineering, or sof...   \n",
       "\n",
       "  WebframeDesireNextYear    WebframeWorkedWith  \\\n",
       "0           ASP.NET Core  ASP.NET;ASP.NET Core   \n",
       "1                    NaN                   NaN   \n",
       "2                    NaN                   NaN   \n",
       "3                    NaN                   NaN   \n",
       "4   Django;Ruby on Rails         Ruby on Rails   \n",
       "\n",
       "                              WelcomeChange WorkWeekHrs YearsCode YearsCodePro  \n",
       "0   Just as welcome now as I felt last year        50.0        36           27  \n",
       "1  Somewhat more welcome now than last year         NaN         7            4  \n",
       "2  Somewhat more welcome now than last year         NaN         4          NaN  \n",
       "3  Somewhat less welcome now than last year        40.0         7            4  \n",
       "4   Just as welcome now as I felt last year         NaN        15            8  \n",
       "\n",
       "[5 rows x 61 columns]"
      ],
      "text/html": "<div>\n<style scoped>\n    .dataframe tbody tr th:only-of-type {\n        vertical-align: middle;\n    }\n\n    .dataframe tbody tr th {\n        vertical-align: top;\n    }\n\n    .dataframe thead th {\n        text-align: right;\n    }\n</style>\n<table border=\"1\" class=\"dataframe\">\n  <thead>\n    <tr style=\"text-align: right;\">\n      <th></th>\n      <th>Respondent</th>\n      <th>MainBranch</th>\n      <th>Hobbyist</th>\n      <th>Age</th>\n      <th>Age1stCode</th>\n      <th>CompFreq</th>\n      <th>CompTotal</th>\n      <th>ConvertedComp</th>\n      <th>Country</th>\n      <th>CurrencyDesc</th>\n      <th>...</th>\n      <th>SurveyEase</th>\n      <th>SurveyLength</th>\n      <th>Trans</th>\n      <th>UndergradMajor</th>\n      <th>WebframeDesireNextYear</th>\n      <th>WebframeWorkedWith</th>\n      <th>WelcomeChange</th>\n      <th>WorkWeekHrs</th>\n      <th>YearsCode</th>\n      <th>YearsCodePro</th>\n    </tr>\n  </thead>\n  <tbody>\n    <tr>\n      <th>0</th>\n      <td>1</td>\n      <td>I am a developer by profession</td>\n      <td>Yes</td>\n      <td>NaN</td>\n      <td>13</td>\n      <td>Monthly</td>\n      <td>NaN</td>\n      <td>NaN</td>\n      <td>Germany</td>\n      <td>European Euro</td>\n      <td>...</td>\n      <td>Neither easy nor difficult</td>\n      <td>Appropriate in length</td>\n      <td>No</td>\n      <td>Computer science, computer engineering, or sof...</td>\n      <td>ASP.NET Core</td>\n      <td>ASP.NET;ASP.NET Core</td>\n      <td>Just as welcome now as I felt last year</td>\n      <td>50.0</td>\n      <td>36</td>\n      <td>27</td>\n    </tr>\n    <tr>\n      <th>1</th>\n      <td>2</td>\n      <td>I am a developer by profession</td>\n      <td>No</td>\n      <td>NaN</td>\n      <td>19</td>\n      <td>NaN</td>\n      <td>NaN</td>\n      <td>NaN</td>\n      <td>United Kingdom</td>\n      <td>Pound sterling</td>\n      <td>...</td>\n      <td>NaN</td>\n      <td>NaN</td>\n      <td>NaN</td>\n      <td>Computer science, computer engineering, or sof...</td>\n      <td>NaN</td>\n      <td>NaN</td>\n      <td>Somewhat more welcome now than last year</td>\n      <td>NaN</td>\n      <td>7</td>\n      <td>4</td>\n    </tr>\n    <tr>\n      <th>2</th>\n      <td>3</td>\n      <td>I code primarily as a hobby</td>\n      <td>Yes</td>\n      <td>NaN</td>\n      <td>15</td>\n      <td>NaN</td>\n      <td>NaN</td>\n      <td>NaN</td>\n      <td>Russian Federation</td>\n      <td>NaN</td>\n      <td>...</td>\n      <td>Neither easy nor difficult</td>\n      <td>Appropriate in length</td>\n      <td>NaN</td>\n      <td>NaN</td>\n      <td>NaN</td>\n      <td>NaN</td>\n      <td>Somewhat more welcome now than last year</td>\n      <td>NaN</td>\n      <td>4</td>\n      <td>NaN</td>\n    </tr>\n    <tr>\n      <th>3</th>\n      <td>4</td>\n      <td>I am a developer by profession</td>\n      <td>Yes</td>\n      <td>25.0</td>\n      <td>18</td>\n      <td>NaN</td>\n      <td>NaN</td>\n      <td>NaN</td>\n      <td>Albania</td>\n      <td>Albanian lek</td>\n      <td>...</td>\n      <td>NaN</td>\n      <td>NaN</td>\n      <td>No</td>\n      <td>Computer science, computer engineering, or sof...</td>\n      <td>NaN</td>\n      <td>NaN</td>\n      <td>Somewhat less welcome now than last year</td>\n      <td>40.0</td>\n      <td>7</td>\n      <td>4</td>\n    </tr>\n    <tr>\n      <th>4</th>\n      <td>5</td>\n      <td>I used to be a developer by profession, but no...</td>\n      <td>Yes</td>\n      <td>31.0</td>\n      <td>16</td>\n      <td>NaN</td>\n      <td>NaN</td>\n      <td>NaN</td>\n      <td>United States</td>\n      <td>NaN</td>\n      <td>...</td>\n      <td>Easy</td>\n      <td>Too short</td>\n      <td>No</td>\n      <td>Computer science, computer engineering, or sof...</td>\n      <td>Django;Ruby on Rails</td>\n      <td>Ruby on Rails</td>\n      <td>Just as welcome now as I felt last year</td>\n      <td>NaN</td>\n      <td>15</td>\n      <td>8</td>\n    </tr>\n  </tbody>\n</table>\n<p>5 rows × 61 columns</p>\n</div>"
     },
     "metadata": {},
     "execution_count": 3
    }
   ],
   "source": [
    "df.head()"
   ]
  },
  {
   "cell_type": "code",
   "execution_count": 4,
   "metadata": {},
   "outputs": [
    {
     "output_type": "execute_result",
     "data": {
      "text/plain": [
       "0         NaN\n",
       "1         NaN\n",
       "2         NaN\n",
       "3        25.0\n",
       "4        31.0\n",
       "         ... \n",
       "64456     NaN\n",
       "64457     NaN\n",
       "64458     NaN\n",
       "64459     NaN\n",
       "64460     NaN\n",
       "Name: Age, Length: 64461, dtype: float64"
      ]
     },
     "metadata": {},
     "execution_count": 4
    }
   ],
   "source": [
    "df[\"Age\"]"
   ]
  },
  {
   "cell_type": "code",
   "execution_count": 5,
   "metadata": {},
   "outputs": [
    {
     "output_type": "execute_result",
     "data": {
      "text/plain": [
       "   Respondent                      MainBranch Hobbyist  Age Age1stCode  \\\n",
       "0           1  I am a developer by profession      Yes  NaN         13   \n",
       "1           2  I am a developer by profession       No  NaN         19   \n",
       "2           3     I code primarily as a hobby      Yes  NaN         15   \n",
       "\n",
       "  CompFreq  CompTotal  ConvertedComp             Country    CurrencyDesc  ...  \\\n",
       "0  Monthly        NaN            NaN             Germany   European Euro  ...   \n",
       "1      NaN        NaN            NaN      United Kingdom  Pound sterling  ...   \n",
       "2      NaN        NaN            NaN  Russian Federation             NaN  ...   \n",
       "\n",
       "                   SurveyEase           SurveyLength Trans  \\\n",
       "0  Neither easy nor difficult  Appropriate in length    No   \n",
       "1                         NaN                    NaN   NaN   \n",
       "2  Neither easy nor difficult  Appropriate in length   NaN   \n",
       "\n",
       "                                      UndergradMajor WebframeDesireNextYear  \\\n",
       "0  Computer science, computer engineering, or sof...           ASP.NET Core   \n",
       "1  Computer science, computer engineering, or sof...                    NaN   \n",
       "2                                                NaN                    NaN   \n",
       "\n",
       "     WebframeWorkedWith                             WelcomeChange WorkWeekHrs  \\\n",
       "0  ASP.NET;ASP.NET Core   Just as welcome now as I felt last year        50.0   \n",
       "1                   NaN  Somewhat more welcome now than last year         NaN   \n",
       "2                   NaN  Somewhat more welcome now than last year         NaN   \n",
       "\n",
       "  YearsCode YearsCodePro  \n",
       "0        36           27  \n",
       "1         7            4  \n",
       "2         4          NaN  \n",
       "\n",
       "[3 rows x 61 columns]"
      ],
      "text/html": "<div>\n<style scoped>\n    .dataframe tbody tr th:only-of-type {\n        vertical-align: middle;\n    }\n\n    .dataframe tbody tr th {\n        vertical-align: top;\n    }\n\n    .dataframe thead th {\n        text-align: right;\n    }\n</style>\n<table border=\"1\" class=\"dataframe\">\n  <thead>\n    <tr style=\"text-align: right;\">\n      <th></th>\n      <th>Respondent</th>\n      <th>MainBranch</th>\n      <th>Hobbyist</th>\n      <th>Age</th>\n      <th>Age1stCode</th>\n      <th>CompFreq</th>\n      <th>CompTotal</th>\n      <th>ConvertedComp</th>\n      <th>Country</th>\n      <th>CurrencyDesc</th>\n      <th>...</th>\n      <th>SurveyEase</th>\n      <th>SurveyLength</th>\n      <th>Trans</th>\n      <th>UndergradMajor</th>\n      <th>WebframeDesireNextYear</th>\n      <th>WebframeWorkedWith</th>\n      <th>WelcomeChange</th>\n      <th>WorkWeekHrs</th>\n      <th>YearsCode</th>\n      <th>YearsCodePro</th>\n    </tr>\n  </thead>\n  <tbody>\n    <tr>\n      <th>0</th>\n      <td>1</td>\n      <td>I am a developer by profession</td>\n      <td>Yes</td>\n      <td>NaN</td>\n      <td>13</td>\n      <td>Monthly</td>\n      <td>NaN</td>\n      <td>NaN</td>\n      <td>Germany</td>\n      <td>European Euro</td>\n      <td>...</td>\n      <td>Neither easy nor difficult</td>\n      <td>Appropriate in length</td>\n      <td>No</td>\n      <td>Computer science, computer engineering, or sof...</td>\n      <td>ASP.NET Core</td>\n      <td>ASP.NET;ASP.NET Core</td>\n      <td>Just as welcome now as I felt last year</td>\n      <td>50.0</td>\n      <td>36</td>\n      <td>27</td>\n    </tr>\n    <tr>\n      <th>1</th>\n      <td>2</td>\n      <td>I am a developer by profession</td>\n      <td>No</td>\n      <td>NaN</td>\n      <td>19</td>\n      <td>NaN</td>\n      <td>NaN</td>\n      <td>NaN</td>\n      <td>United Kingdom</td>\n      <td>Pound sterling</td>\n      <td>...</td>\n      <td>NaN</td>\n      <td>NaN</td>\n      <td>NaN</td>\n      <td>Computer science, computer engineering, or sof...</td>\n      <td>NaN</td>\n      <td>NaN</td>\n      <td>Somewhat more welcome now than last year</td>\n      <td>NaN</td>\n      <td>7</td>\n      <td>4</td>\n    </tr>\n    <tr>\n      <th>2</th>\n      <td>3</td>\n      <td>I code primarily as a hobby</td>\n      <td>Yes</td>\n      <td>NaN</td>\n      <td>15</td>\n      <td>NaN</td>\n      <td>NaN</td>\n      <td>NaN</td>\n      <td>Russian Federation</td>\n      <td>NaN</td>\n      <td>...</td>\n      <td>Neither easy nor difficult</td>\n      <td>Appropriate in length</td>\n      <td>NaN</td>\n      <td>NaN</td>\n      <td>NaN</td>\n      <td>NaN</td>\n      <td>Somewhat more welcome now than last year</td>\n      <td>NaN</td>\n      <td>4</td>\n      <td>NaN</td>\n    </tr>\n  </tbody>\n</table>\n<p>3 rows × 61 columns</p>\n</div>"
     },
     "metadata": {},
     "execution_count": 5
    }
   ],
   "source": [
    "df[0:3]"
   ]
  },
  {
   "cell_type": "code",
   "execution_count": 6,
   "metadata": {},
   "outputs": [
    {
     "output_type": "execute_result",
     "data": {
      "text/plain": [
       "       Respondent   Age\n",
       "0               1   NaN\n",
       "1               2   NaN\n",
       "2               3   NaN\n",
       "3               4  25.0\n",
       "4               5  31.0\n",
       "...           ...   ...\n",
       "64456       64858   NaN\n",
       "64457       64867   NaN\n",
       "64458       64898   NaN\n",
       "64459       64925   NaN\n",
       "64460       65112   NaN\n",
       "\n",
       "[64461 rows x 2 columns]"
      ],
      "text/html": "<div>\n<style scoped>\n    .dataframe tbody tr th:only-of-type {\n        vertical-align: middle;\n    }\n\n    .dataframe tbody tr th {\n        vertical-align: top;\n    }\n\n    .dataframe thead th {\n        text-align: right;\n    }\n</style>\n<table border=\"1\" class=\"dataframe\">\n  <thead>\n    <tr style=\"text-align: right;\">\n      <th></th>\n      <th>Respondent</th>\n      <th>Age</th>\n    </tr>\n  </thead>\n  <tbody>\n    <tr>\n      <th>0</th>\n      <td>1</td>\n      <td>NaN</td>\n    </tr>\n    <tr>\n      <th>1</th>\n      <td>2</td>\n      <td>NaN</td>\n    </tr>\n    <tr>\n      <th>2</th>\n      <td>3</td>\n      <td>NaN</td>\n    </tr>\n    <tr>\n      <th>3</th>\n      <td>4</td>\n      <td>25.0</td>\n    </tr>\n    <tr>\n      <th>4</th>\n      <td>5</td>\n      <td>31.0</td>\n    </tr>\n    <tr>\n      <th>...</th>\n      <td>...</td>\n      <td>...</td>\n    </tr>\n    <tr>\n      <th>64456</th>\n      <td>64858</td>\n      <td>NaN</td>\n    </tr>\n    <tr>\n      <th>64457</th>\n      <td>64867</td>\n      <td>NaN</td>\n    </tr>\n    <tr>\n      <th>64458</th>\n      <td>64898</td>\n      <td>NaN</td>\n    </tr>\n    <tr>\n      <th>64459</th>\n      <td>64925</td>\n      <td>NaN</td>\n    </tr>\n    <tr>\n      <th>64460</th>\n      <td>65112</td>\n      <td>NaN</td>\n    </tr>\n  </tbody>\n</table>\n<p>64461 rows × 2 columns</p>\n</div>"
     },
     "metadata": {},
     "execution_count": 6
    }
   ],
   "source": [
    "df.loc[:, [\"Respondent\", \"Age\"]]"
   ]
  },
  {
   "cell_type": "code",
   "execution_count": 9,
   "metadata": {},
   "outputs": [
    {
     "output_type": "execute_result",
     "data": {
      "text/plain": [
       "   Respondent                                         MainBranch Hobbyist\n",
       "0           1                     I am a developer by profession      Yes\n",
       "1           2                     I am a developer by profession       No\n",
       "2           3                        I code primarily as a hobby      Yes\n",
       "3           4                     I am a developer by profession      Yes\n",
       "4           5  I used to be a developer by profession, but no...      Yes\n",
       "5           6                     I am a developer by profession       No\n",
       "6           7                     I am a developer by profession      Yes\n",
       "7           8                     I am a developer by profession      Yes\n",
       "8           9                     I am a developer by profession       No\n",
       "9          10                     I am a developer by profession      Yes"
      ],
      "text/html": "<div>\n<style scoped>\n    .dataframe tbody tr th:only-of-type {\n        vertical-align: middle;\n    }\n\n    .dataframe tbody tr th {\n        vertical-align: top;\n    }\n\n    .dataframe thead th {\n        text-align: right;\n    }\n</style>\n<table border=\"1\" class=\"dataframe\">\n  <thead>\n    <tr style=\"text-align: right;\">\n      <th></th>\n      <th>Respondent</th>\n      <th>MainBranch</th>\n      <th>Hobbyist</th>\n    </tr>\n  </thead>\n  <tbody>\n    <tr>\n      <th>0</th>\n      <td>1</td>\n      <td>I am a developer by profession</td>\n      <td>Yes</td>\n    </tr>\n    <tr>\n      <th>1</th>\n      <td>2</td>\n      <td>I am a developer by profession</td>\n      <td>No</td>\n    </tr>\n    <tr>\n      <th>2</th>\n      <td>3</td>\n      <td>I code primarily as a hobby</td>\n      <td>Yes</td>\n    </tr>\n    <tr>\n      <th>3</th>\n      <td>4</td>\n      <td>I am a developer by profession</td>\n      <td>Yes</td>\n    </tr>\n    <tr>\n      <th>4</th>\n      <td>5</td>\n      <td>I used to be a developer by profession, but no...</td>\n      <td>Yes</td>\n    </tr>\n    <tr>\n      <th>5</th>\n      <td>6</td>\n      <td>I am a developer by profession</td>\n      <td>No</td>\n    </tr>\n    <tr>\n      <th>6</th>\n      <td>7</td>\n      <td>I am a developer by profession</td>\n      <td>Yes</td>\n    </tr>\n    <tr>\n      <th>7</th>\n      <td>8</td>\n      <td>I am a developer by profession</td>\n      <td>Yes</td>\n    </tr>\n    <tr>\n      <th>8</th>\n      <td>9</td>\n      <td>I am a developer by profession</td>\n      <td>No</td>\n    </tr>\n    <tr>\n      <th>9</th>\n      <td>10</td>\n      <td>I am a developer by profession</td>\n      <td>Yes</td>\n    </tr>\n  </tbody>\n</table>\n</div>"
     },
     "metadata": {},
     "execution_count": 9
    }
   ],
   "source": [
    "df.iloc[0:10,0:3]"
   ]
  },
  {
   "cell_type": "code",
   "execution_count": 11,
   "metadata": {},
   "outputs": [
    {
     "output_type": "execute_result",
     "data": {
      "text/plain": [
       "       Respondent                                         MainBranch Hobbyist  \\\n",
       "4               5  I used to be a developer by profession, but no...      Yes   \n",
       "7               8                     I am a developer by profession      Yes   \n",
       "11             12                     I am a developer by profession       No   \n",
       "12             13  I am not primarily a developer, but I write co...      Yes   \n",
       "15             16                     I am a developer by profession      Yes   \n",
       "...           ...                                                ...      ...   \n",
       "64411       57949                                                NaN      Yes   \n",
       "64413       58498                                                NaN      Yes   \n",
       "64427       60149                                                NaN      Yes   \n",
       "64430       61111                                                NaN      Yes   \n",
       "64433       61561                                                NaN      Yes   \n",
       "\n",
       "        Age Age1stCode CompFreq  CompTotal  ConvertedComp         Country  \\\n",
       "4      31.0         16      NaN        NaN            NaN   United States   \n",
       "7      36.0         12   Yearly   116000.0       116000.0   United States   \n",
       "11     49.0         42  Monthly     1100.0        14268.0           Spain   \n",
       "12     53.0         14  Monthly     3000.0        38916.0     Netherlands   \n",
       "15     45.0          8  Monthly     7000.0       108576.0  United Kingdom   \n",
       "...     ...        ...      ...        ...            ...             ...   \n",
       "64411  44.0         15      NaN        NaN            NaN         Belgium   \n",
       "64413  32.0         23      NaN        NaN            NaN   United States   \n",
       "64427  34.0         18      NaN        NaN            NaN          Brazil   \n",
       "64430  38.0         35      NaN        NaN            NaN          Israel   \n",
       "64433  64.0         18      NaN        NaN            NaN          France   \n",
       "\n",
       "               CurrencyDesc  ...                  SurveyEase  \\\n",
       "4                       NaN  ...                        Easy   \n",
       "7      United States dollar  ...                        Easy   \n",
       "11            European Euro  ...                        Easy   \n",
       "12            European Euro  ...  Neither easy nor difficult   \n",
       "15           Pound sterling  ...                        Easy   \n",
       "...                     ...  ...                         ...   \n",
       "64411                   NaN  ...  Neither easy nor difficult   \n",
       "64413                   NaN  ...  Neither easy nor difficult   \n",
       "64427                   NaN  ...                        Easy   \n",
       "64430                   NaN  ...                        Easy   \n",
       "64433                   NaN  ...  Neither easy nor difficult   \n",
       "\n",
       "                SurveyLength Trans  \\\n",
       "4                  Too short    No   \n",
       "7      Appropriate in length    No   \n",
       "11     Appropriate in length    No   \n",
       "12                  Too long    No   \n",
       "15     Appropriate in length    No   \n",
       "...                      ...   ...   \n",
       "64411               Too long    No   \n",
       "64413  Appropriate in length    No   \n",
       "64427  Appropriate in length    No   \n",
       "64430  Appropriate in length    No   \n",
       "64433  Appropriate in length    No   \n",
       "\n",
       "                                          UndergradMajor  \\\n",
       "4      Computer science, computer engineering, or sof...   \n",
       "7      Computer science, computer engineering, or sof...   \n",
       "11                             Mathematics or statistics   \n",
       "12                                                   NaN   \n",
       "15     Computer science, computer engineering, or sof...   \n",
       "...                                                  ...   \n",
       "64411  Another engineering discipline (such as civil,...   \n",
       "64413                          Mathematics or statistics   \n",
       "64427  Computer science, computer engineering, or sof...   \n",
       "64430                                                NaN   \n",
       "64433  Information systems, information technology, o...   \n",
       "\n",
       "                                  WebframeDesireNextYear  \\\n",
       "4                                   Django;Ruby on Rails   \n",
       "7                                 Django;React.js;Vue.js   \n",
       "11                                        ASP.NET;jQuery   \n",
       "12                                                   NaN   \n",
       "15                                                   NaN   \n",
       "...                                                  ...   \n",
       "64411  ASP.NET;ASP.NET Core;jQuery;React.js;Ruby on R...   \n",
       "64413  ASP.NET;ASP.NET Core;Flask;Gatsby;jQuery;React...   \n",
       "64427                                       Django;Flask   \n",
       "64430                                           React.js   \n",
       "64433                  Angular.js;jQuery;React.js;Vue.js   \n",
       "\n",
       "                                      WebframeWorkedWith  \\\n",
       "4                                          Ruby on Rails   \n",
       "7                                                  Flask   \n",
       "11                                        ASP.NET;jQuery   \n",
       "12                                                   NaN   \n",
       "15                                       jQuery;React.js   \n",
       "...                                                  ...   \n",
       "64411                                                NaN   \n",
       "64413  ASP.NET;ASP.NET Core;Flask;Gatsby;jQuery;React...   \n",
       "64427                                             Django   \n",
       "64430                       ASP.NET Core;Django;React.js   \n",
       "64433                                             jQuery   \n",
       "\n",
       "                                  WelcomeChange WorkWeekHrs         YearsCode  \\\n",
       "4       Just as welcome now as I felt last year         NaN                15   \n",
       "7       Just as welcome now as I felt last year        39.0                17   \n",
       "11      Just as welcome now as I felt last year        40.0                 7   \n",
       "12        A lot less welcome now than last year        36.0                35   \n",
       "15      Just as welcome now as I felt last year        50.0                37   \n",
       "...                                         ...         ...               ...   \n",
       "64411                                       NaN         NaN  Less than 1 year   \n",
       "64413                                       NaN         NaN                 8   \n",
       "64427   Just as welcome now as I felt last year         NaN                16   \n",
       "64430  Somewhat more welcome now than last year         NaN                 3   \n",
       "64433     A lot more welcome now than last year         NaN                30   \n",
       "\n",
       "           YearsCodePro  \n",
       "4                     8  \n",
       "7                    13  \n",
       "11                    7  \n",
       "12                   20  \n",
       "15                   23  \n",
       "...                 ...  \n",
       "64411  Less than 1 year  \n",
       "64413  Less than 1 year  \n",
       "64427                14  \n",
       "64430               NaN  \n",
       "64433               NaN  \n",
       "\n",
       "[19111 rows x 61 columns]"
      ],
      "text/html": "<div>\n<style scoped>\n    .dataframe tbody tr th:only-of-type {\n        vertical-align: middle;\n    }\n\n    .dataframe tbody tr th {\n        vertical-align: top;\n    }\n\n    .dataframe thead th {\n        text-align: right;\n    }\n</style>\n<table border=\"1\" class=\"dataframe\">\n  <thead>\n    <tr style=\"text-align: right;\">\n      <th></th>\n      <th>Respondent</th>\n      <th>MainBranch</th>\n      <th>Hobbyist</th>\n      <th>Age</th>\n      <th>Age1stCode</th>\n      <th>CompFreq</th>\n      <th>CompTotal</th>\n      <th>ConvertedComp</th>\n      <th>Country</th>\n      <th>CurrencyDesc</th>\n      <th>...</th>\n      <th>SurveyEase</th>\n      <th>SurveyLength</th>\n      <th>Trans</th>\n      <th>UndergradMajor</th>\n      <th>WebframeDesireNextYear</th>\n      <th>WebframeWorkedWith</th>\n      <th>WelcomeChange</th>\n      <th>WorkWeekHrs</th>\n      <th>YearsCode</th>\n      <th>YearsCodePro</th>\n    </tr>\n  </thead>\n  <tbody>\n    <tr>\n      <th>4</th>\n      <td>5</td>\n      <td>I used to be a developer by profession, but no...</td>\n      <td>Yes</td>\n      <td>31.0</td>\n      <td>16</td>\n      <td>NaN</td>\n      <td>NaN</td>\n      <td>NaN</td>\n      <td>United States</td>\n      <td>NaN</td>\n      <td>...</td>\n      <td>Easy</td>\n      <td>Too short</td>\n      <td>No</td>\n      <td>Computer science, computer engineering, or sof...</td>\n      <td>Django;Ruby on Rails</td>\n      <td>Ruby on Rails</td>\n      <td>Just as welcome now as I felt last year</td>\n      <td>NaN</td>\n      <td>15</td>\n      <td>8</td>\n    </tr>\n    <tr>\n      <th>7</th>\n      <td>8</td>\n      <td>I am a developer by profession</td>\n      <td>Yes</td>\n      <td>36.0</td>\n      <td>12</td>\n      <td>Yearly</td>\n      <td>116000.0</td>\n      <td>116000.0</td>\n      <td>United States</td>\n      <td>United States dollar</td>\n      <td>...</td>\n      <td>Easy</td>\n      <td>Appropriate in length</td>\n      <td>No</td>\n      <td>Computer science, computer engineering, or sof...</td>\n      <td>Django;React.js;Vue.js</td>\n      <td>Flask</td>\n      <td>Just as welcome now as I felt last year</td>\n      <td>39.0</td>\n      <td>17</td>\n      <td>13</td>\n    </tr>\n    <tr>\n      <th>11</th>\n      <td>12</td>\n      <td>I am a developer by profession</td>\n      <td>No</td>\n      <td>49.0</td>\n      <td>42</td>\n      <td>Monthly</td>\n      <td>1100.0</td>\n      <td>14268.0</td>\n      <td>Spain</td>\n      <td>European Euro</td>\n      <td>...</td>\n      <td>Easy</td>\n      <td>Appropriate in length</td>\n      <td>No</td>\n      <td>Mathematics or statistics</td>\n      <td>ASP.NET;jQuery</td>\n      <td>ASP.NET;jQuery</td>\n      <td>Just as welcome now as I felt last year</td>\n      <td>40.0</td>\n      <td>7</td>\n      <td>7</td>\n    </tr>\n    <tr>\n      <th>12</th>\n      <td>13</td>\n      <td>I am not primarily a developer, but I write co...</td>\n      <td>Yes</td>\n      <td>53.0</td>\n      <td>14</td>\n      <td>Monthly</td>\n      <td>3000.0</td>\n      <td>38916.0</td>\n      <td>Netherlands</td>\n      <td>European Euro</td>\n      <td>...</td>\n      <td>Neither easy nor difficult</td>\n      <td>Too long</td>\n      <td>No</td>\n      <td>NaN</td>\n      <td>NaN</td>\n      <td>NaN</td>\n      <td>A lot less welcome now than last year</td>\n      <td>36.0</td>\n      <td>35</td>\n      <td>20</td>\n    </tr>\n    <tr>\n      <th>15</th>\n      <td>16</td>\n      <td>I am a developer by profession</td>\n      <td>Yes</td>\n      <td>45.0</td>\n      <td>8</td>\n      <td>Monthly</td>\n      <td>7000.0</td>\n      <td>108576.0</td>\n      <td>United Kingdom</td>\n      <td>Pound sterling</td>\n      <td>...</td>\n      <td>Easy</td>\n      <td>Appropriate in length</td>\n      <td>No</td>\n      <td>Computer science, computer engineering, or sof...</td>\n      <td>NaN</td>\n      <td>jQuery;React.js</td>\n      <td>Just as welcome now as I felt last year</td>\n      <td>50.0</td>\n      <td>37</td>\n      <td>23</td>\n    </tr>\n    <tr>\n      <th>...</th>\n      <td>...</td>\n      <td>...</td>\n      <td>...</td>\n      <td>...</td>\n      <td>...</td>\n      <td>...</td>\n      <td>...</td>\n      <td>...</td>\n      <td>...</td>\n      <td>...</td>\n      <td>...</td>\n      <td>...</td>\n      <td>...</td>\n      <td>...</td>\n      <td>...</td>\n      <td>...</td>\n      <td>...</td>\n      <td>...</td>\n      <td>...</td>\n      <td>...</td>\n      <td>...</td>\n    </tr>\n    <tr>\n      <th>64411</th>\n      <td>57949</td>\n      <td>NaN</td>\n      <td>Yes</td>\n      <td>44.0</td>\n      <td>15</td>\n      <td>NaN</td>\n      <td>NaN</td>\n      <td>NaN</td>\n      <td>Belgium</td>\n      <td>NaN</td>\n      <td>...</td>\n      <td>Neither easy nor difficult</td>\n      <td>Too long</td>\n      <td>No</td>\n      <td>Another engineering discipline (such as civil,...</td>\n      <td>ASP.NET;ASP.NET Core;jQuery;React.js;Ruby on R...</td>\n      <td>NaN</td>\n      <td>NaN</td>\n      <td>NaN</td>\n      <td>Less than 1 year</td>\n      <td>Less than 1 year</td>\n    </tr>\n    <tr>\n      <th>64413</th>\n      <td>58498</td>\n      <td>NaN</td>\n      <td>Yes</td>\n      <td>32.0</td>\n      <td>23</td>\n      <td>NaN</td>\n      <td>NaN</td>\n      <td>NaN</td>\n      <td>United States</td>\n      <td>NaN</td>\n      <td>...</td>\n      <td>Neither easy nor difficult</td>\n      <td>Appropriate in length</td>\n      <td>No</td>\n      <td>Mathematics or statistics</td>\n      <td>ASP.NET;ASP.NET Core;Flask;Gatsby;jQuery;React...</td>\n      <td>ASP.NET;ASP.NET Core;Flask;Gatsby;jQuery;React...</td>\n      <td>NaN</td>\n      <td>NaN</td>\n      <td>8</td>\n      <td>Less than 1 year</td>\n    </tr>\n    <tr>\n      <th>64427</th>\n      <td>60149</td>\n      <td>NaN</td>\n      <td>Yes</td>\n      <td>34.0</td>\n      <td>18</td>\n      <td>NaN</td>\n      <td>NaN</td>\n      <td>NaN</td>\n      <td>Brazil</td>\n      <td>NaN</td>\n      <td>...</td>\n      <td>Easy</td>\n      <td>Appropriate in length</td>\n      <td>No</td>\n      <td>Computer science, computer engineering, or sof...</td>\n      <td>Django;Flask</td>\n      <td>Django</td>\n      <td>Just as welcome now as I felt last year</td>\n      <td>NaN</td>\n      <td>16</td>\n      <td>14</td>\n    </tr>\n    <tr>\n      <th>64430</th>\n      <td>61111</td>\n      <td>NaN</td>\n      <td>Yes</td>\n      <td>38.0</td>\n      <td>35</td>\n      <td>NaN</td>\n      <td>NaN</td>\n      <td>NaN</td>\n      <td>Israel</td>\n      <td>NaN</td>\n      <td>...</td>\n      <td>Easy</td>\n      <td>Appropriate in length</td>\n      <td>No</td>\n      <td>NaN</td>\n      <td>React.js</td>\n      <td>ASP.NET Core;Django;React.js</td>\n      <td>Somewhat more welcome now than last year</td>\n      <td>NaN</td>\n      <td>3</td>\n      <td>NaN</td>\n    </tr>\n    <tr>\n      <th>64433</th>\n      <td>61561</td>\n      <td>NaN</td>\n      <td>Yes</td>\n      <td>64.0</td>\n      <td>18</td>\n      <td>NaN</td>\n      <td>NaN</td>\n      <td>NaN</td>\n      <td>France</td>\n      <td>NaN</td>\n      <td>...</td>\n      <td>Neither easy nor difficult</td>\n      <td>Appropriate in length</td>\n      <td>No</td>\n      <td>Information systems, information technology, o...</td>\n      <td>Angular.js;jQuery;React.js;Vue.js</td>\n      <td>jQuery</td>\n      <td>A lot more welcome now than last year</td>\n      <td>NaN</td>\n      <td>30</td>\n      <td>NaN</td>\n    </tr>\n  </tbody>\n</table>\n<p>19111 rows × 61 columns</p>\n</div>"
     },
     "metadata": {},
     "execution_count": 11
    }
   ],
   "source": [
    "df[df[\"Age\"] > 30]"
   ]
  },
  {
   "cell_type": "code",
   "execution_count": null,
   "metadata": {},
   "outputs": [],
   "source": []
  }
 ]
}