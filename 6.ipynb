{
 "metadata": {
  "language_info": {
   "codemirror_mode": {
    "name": "ipython",
    "version": 3
   },
   "file_extension": ".py",
   "mimetype": "text/x-python",
   "name": "python",
   "nbconvert_exporter": "python",
   "pygments_lexer": "ipython3",
   "version": "3.9.0"
  },
  "orig_nbformat": 2,
  "kernelspec": {
   "name": "pythonjvsc74a57bd084a6b55ad9bb292c3347443411afebca6c1b86b6e49fef5c15a9cce344bc37b9",
   "display_name": "Python 3.9.0 64-bit ('.venv': venv)"
  },
  "metadata": {
   "interpreter": {
    "hash": "84a6b55ad9bb292c3347443411afebca6c1b86b6e49fef5c15a9cce344bc37b9"
   }
  }
 },
 "nbformat": 4,
 "nbformat_minor": 2,
 "cells": [
  {
   "cell_type": "code",
   "execution_count": 1,
   "metadata": {},
   "outputs": [
    {
     "output_type": "stream",
     "name": "stdout",
     "text": [
      "<class 'pandas.core.frame.DataFrame'>\nRangeIndex: 64461 entries, 0 to 64460\nData columns (total 61 columns):\n #   Column                        Non-Null Count  Dtype  \n---  ------                        --------------  -----  \n 0   Respondent                    64461 non-null  int64  \n 1   MainBranch                    64162 non-null  object \n 2   Hobbyist                      64416 non-null  object \n 3   Age                           45446 non-null  float64\n 4   Age1stCode                    57900 non-null  object \n 5   CompFreq                      40069 non-null  object \n 6   CompTotal                     34826 non-null  float64\n 7   ConvertedComp                 34756 non-null  float64\n 8   Country                       64072 non-null  object \n 9   CurrencyDesc                  45472 non-null  object \n 10  CurrencySymbol                45472 non-null  object \n 11  DatabaseDesireNextYear        44070 non-null  object \n 12  DatabaseWorkedWith            49537 non-null  object \n 13  DevType                       49370 non-null  object \n 14  EdLevel                       57431 non-null  object \n 15  Employment                    63854 non-null  object \n 16  Ethnicity                     45948 non-null  object \n 17  Gender                        50557 non-null  object \n 18  JobFactors                    49349 non-null  object \n 19  JobSat                        45194 non-null  object \n 20  JobSeek                       51727 non-null  object \n 21  LanguageDesireNextYear        54113 non-null  object \n 22  LanguageWorkedWith            57378 non-null  object \n 23  MiscTechDesireNextYear        42379 non-null  object \n 24  MiscTechWorkedWith            40314 non-null  object \n 25  NEWCollabToolsDesireNextYear  47287 non-null  object \n 26  NEWCollabToolsWorkedWith      52883 non-null  object \n 27  NEWDevOps                     42686 non-null  object \n 28  NEWDevOpsImpt                 41732 non-null  object \n 29  NEWEdImpt                     48465 non-null  object \n 30  NEWJobHunt                    42286 non-null  object \n 31  NEWJobHuntResearch            41022 non-null  object \n 32  NEWLearn                      56156 non-null  object \n 33  NEWOffTopic                   50804 non-null  object \n 34  NEWOnboardGood                42623 non-null  object \n 35  NEWOtherComms                 57205 non-null  object \n 36  NEWOvertime                   43231 non-null  object \n 37  NEWPurchaseResearch           37321 non-null  object \n 38  NEWPurpleLink                 54803 non-null  object \n 39  NEWSOSites                    58275 non-null  object \n 40  NEWStuck                      54983 non-null  object \n 41  OpSys                         56228 non-null  object \n 42  OrgSize                       44334 non-null  object \n 43  PlatformDesireNextYear        50605 non-null  object \n 44  PlatformWorkedWith            53843 non-null  object \n 45  PurchaseWhat                  39364 non-null  object \n 46  Sexuality                     43992 non-null  object \n 47  SOAccount                     56805 non-null  object \n 48  SOComm                        56476 non-null  object \n 49  SOPartFreq                    46792 non-null  object \n 50  SOVisitFreq                   56970 non-null  object \n 51  SurveyEase                    51802 non-null  object \n 52  SurveyLength                  51701 non-null  object \n 53  Trans                         49345 non-null  object \n 54  UndergradMajor                50995 non-null  object \n 55  WebframeDesireNextYear        40024 non-null  object \n 56  WebframeWorkedWith            42279 non-null  object \n 57  WelcomeChange                 52683 non-null  object \n 58  WorkWeekHrs                   41151 non-null  float64\n 59  YearsCode                     57684 non-null  object \n 60  YearsCodePro                  46349 non-null  object \ndtypes: float64(4), int64(1), object(56)\nmemory usage: 30.0+ MB\n"
     ]
    }
   ],
   "source": [
    "import pandas as pd\n",
    "df = pd.read_csv(\"./survey_results_public.csv\")\n",
    "df.info()"
   ]
  },
  {
   "cell_type": "code",
   "execution_count": 2,
   "metadata": {},
   "outputs": [
    {
     "output_type": "execute_result",
     "data": {
      "text/plain": [
       "       Respondent  MainBranch  Hobbyist    Age  Age1stCode  CompFreq  \\\n",
       "0           False       False     False   True       False     False   \n",
       "1           False       False     False   True       False      True   \n",
       "2           False       False     False   True       False      True   \n",
       "3           False       False     False  False       False      True   \n",
       "4           False       False     False  False       False      True   \n",
       "...           ...         ...       ...    ...         ...       ...   \n",
       "64456       False        True     False   True       False      True   \n",
       "64457       False        True     False   True        True      True   \n",
       "64458       False        True     False   True        True      True   \n",
       "64459       False        True     False   True        True      True   \n",
       "64460       False        True     False   True        True      True   \n",
       "\n",
       "       CompTotal  ConvertedComp  Country  CurrencyDesc  ...  SurveyEase  \\\n",
       "0           True           True    False         False  ...       False   \n",
       "1           True           True    False         False  ...        True   \n",
       "2           True           True    False          True  ...       False   \n",
       "3           True           True    False         False  ...        True   \n",
       "4           True           True    False          True  ...       False   \n",
       "...          ...            ...      ...           ...  ...         ...   \n",
       "64456       True           True    False          True  ...        True   \n",
       "64457       True           True    False          True  ...        True   \n",
       "64458       True           True    False          True  ...        True   \n",
       "64459       True           True    False          True  ...        True   \n",
       "64460       True           True    False          True  ...        True   \n",
       "\n",
       "       SurveyLength  Trans  UndergradMajor  WebframeDesireNextYear  \\\n",
       "0             False  False           False                   False   \n",
       "1              True   True           False                    True   \n",
       "2             False   True            True                    True   \n",
       "3              True  False           False                    True   \n",
       "4             False  False           False                   False   \n",
       "...             ...    ...             ...                     ...   \n",
       "64456          True   True           False                    True   \n",
       "64457          True   True            True                    True   \n",
       "64458          True   True            True                    True   \n",
       "64459          True   True            True                   False   \n",
       "64460          True   True           False                   False   \n",
       "\n",
       "       WebframeWorkedWith  WelcomeChange  WorkWeekHrs  YearsCode  YearsCodePro  \n",
       "0                   False          False        False      False         False  \n",
       "1                    True          False         True      False         False  \n",
       "2                    True          False         True      False          True  \n",
       "3                    True          False        False      False         False  \n",
       "4                   False          False         True      False         False  \n",
       "...                   ...            ...          ...        ...           ...  \n",
       "64456                True           True         True      False         False  \n",
       "64457                True           True         True       True          True  \n",
       "64458                True           True         True       True          True  \n",
       "64459                True           True         True       True          True  \n",
       "64460               False           True         True       True          True  \n",
       "\n",
       "[64461 rows x 61 columns]"
      ],
      "text/html": "<div>\n<style scoped>\n    .dataframe tbody tr th:only-of-type {\n        vertical-align: middle;\n    }\n\n    .dataframe tbody tr th {\n        vertical-align: top;\n    }\n\n    .dataframe thead th {\n        text-align: right;\n    }\n</style>\n<table border=\"1\" class=\"dataframe\">\n  <thead>\n    <tr style=\"text-align: right;\">\n      <th></th>\n      <th>Respondent</th>\n      <th>MainBranch</th>\n      <th>Hobbyist</th>\n      <th>Age</th>\n      <th>Age1stCode</th>\n      <th>CompFreq</th>\n      <th>CompTotal</th>\n      <th>ConvertedComp</th>\n      <th>Country</th>\n      <th>CurrencyDesc</th>\n      <th>...</th>\n      <th>SurveyEase</th>\n      <th>SurveyLength</th>\n      <th>Trans</th>\n      <th>UndergradMajor</th>\n      <th>WebframeDesireNextYear</th>\n      <th>WebframeWorkedWith</th>\n      <th>WelcomeChange</th>\n      <th>WorkWeekHrs</th>\n      <th>YearsCode</th>\n      <th>YearsCodePro</th>\n    </tr>\n  </thead>\n  <tbody>\n    <tr>\n      <th>0</th>\n      <td>False</td>\n      <td>False</td>\n      <td>False</td>\n      <td>True</td>\n      <td>False</td>\n      <td>False</td>\n      <td>True</td>\n      <td>True</td>\n      <td>False</td>\n      <td>False</td>\n      <td>...</td>\n      <td>False</td>\n      <td>False</td>\n      <td>False</td>\n      <td>False</td>\n      <td>False</td>\n      <td>False</td>\n      <td>False</td>\n      <td>False</td>\n      <td>False</td>\n      <td>False</td>\n    </tr>\n    <tr>\n      <th>1</th>\n      <td>False</td>\n      <td>False</td>\n      <td>False</td>\n      <td>True</td>\n      <td>False</td>\n      <td>True</td>\n      <td>True</td>\n      <td>True</td>\n      <td>False</td>\n      <td>False</td>\n      <td>...</td>\n      <td>True</td>\n      <td>True</td>\n      <td>True</td>\n      <td>False</td>\n      <td>True</td>\n      <td>True</td>\n      <td>False</td>\n      <td>True</td>\n      <td>False</td>\n      <td>False</td>\n    </tr>\n    <tr>\n      <th>2</th>\n      <td>False</td>\n      <td>False</td>\n      <td>False</td>\n      <td>True</td>\n      <td>False</td>\n      <td>True</td>\n      <td>True</td>\n      <td>True</td>\n      <td>False</td>\n      <td>True</td>\n      <td>...</td>\n      <td>False</td>\n      <td>False</td>\n      <td>True</td>\n      <td>True</td>\n      <td>True</td>\n      <td>True</td>\n      <td>False</td>\n      <td>True</td>\n      <td>False</td>\n      <td>True</td>\n    </tr>\n    <tr>\n      <th>3</th>\n      <td>False</td>\n      <td>False</td>\n      <td>False</td>\n      <td>False</td>\n      <td>False</td>\n      <td>True</td>\n      <td>True</td>\n      <td>True</td>\n      <td>False</td>\n      <td>False</td>\n      <td>...</td>\n      <td>True</td>\n      <td>True</td>\n      <td>False</td>\n      <td>False</td>\n      <td>True</td>\n      <td>True</td>\n      <td>False</td>\n      <td>False</td>\n      <td>False</td>\n      <td>False</td>\n    </tr>\n    <tr>\n      <th>4</th>\n      <td>False</td>\n      <td>False</td>\n      <td>False</td>\n      <td>False</td>\n      <td>False</td>\n      <td>True</td>\n      <td>True</td>\n      <td>True</td>\n      <td>False</td>\n      <td>True</td>\n      <td>...</td>\n      <td>False</td>\n      <td>False</td>\n      <td>False</td>\n      <td>False</td>\n      <td>False</td>\n      <td>False</td>\n      <td>False</td>\n      <td>True</td>\n      <td>False</td>\n      <td>False</td>\n    </tr>\n    <tr>\n      <th>...</th>\n      <td>...</td>\n      <td>...</td>\n      <td>...</td>\n      <td>...</td>\n      <td>...</td>\n      <td>...</td>\n      <td>...</td>\n      <td>...</td>\n      <td>...</td>\n      <td>...</td>\n      <td>...</td>\n      <td>...</td>\n      <td>...</td>\n      <td>...</td>\n      <td>...</td>\n      <td>...</td>\n      <td>...</td>\n      <td>...</td>\n      <td>...</td>\n      <td>...</td>\n      <td>...</td>\n    </tr>\n    <tr>\n      <th>64456</th>\n      <td>False</td>\n      <td>True</td>\n      <td>False</td>\n      <td>True</td>\n      <td>False</td>\n      <td>True</td>\n      <td>True</td>\n      <td>True</td>\n      <td>False</td>\n      <td>True</td>\n      <td>...</td>\n      <td>True</td>\n      <td>True</td>\n      <td>True</td>\n      <td>False</td>\n      <td>True</td>\n      <td>True</td>\n      <td>True</td>\n      <td>True</td>\n      <td>False</td>\n      <td>False</td>\n    </tr>\n    <tr>\n      <th>64457</th>\n      <td>False</td>\n      <td>True</td>\n      <td>False</td>\n      <td>True</td>\n      <td>True</td>\n      <td>True</td>\n      <td>True</td>\n      <td>True</td>\n      <td>False</td>\n      <td>True</td>\n      <td>...</td>\n      <td>True</td>\n      <td>True</td>\n      <td>True</td>\n      <td>True</td>\n      <td>True</td>\n      <td>True</td>\n      <td>True</td>\n      <td>True</td>\n      <td>True</td>\n      <td>True</td>\n    </tr>\n    <tr>\n      <th>64458</th>\n      <td>False</td>\n      <td>True</td>\n      <td>False</td>\n      <td>True</td>\n      <td>True</td>\n      <td>True</td>\n      <td>True</td>\n      <td>True</td>\n      <td>False</td>\n      <td>True</td>\n      <td>...</td>\n      <td>True</td>\n      <td>True</td>\n      <td>True</td>\n      <td>True</td>\n      <td>True</td>\n      <td>True</td>\n      <td>True</td>\n      <td>True</td>\n      <td>True</td>\n      <td>True</td>\n    </tr>\n    <tr>\n      <th>64459</th>\n      <td>False</td>\n      <td>True</td>\n      <td>False</td>\n      <td>True</td>\n      <td>True</td>\n      <td>True</td>\n      <td>True</td>\n      <td>True</td>\n      <td>False</td>\n      <td>True</td>\n      <td>...</td>\n      <td>True</td>\n      <td>True</td>\n      <td>True</td>\n      <td>True</td>\n      <td>False</td>\n      <td>True</td>\n      <td>True</td>\n      <td>True</td>\n      <td>True</td>\n      <td>True</td>\n    </tr>\n    <tr>\n      <th>64460</th>\n      <td>False</td>\n      <td>True</td>\n      <td>False</td>\n      <td>True</td>\n      <td>True</td>\n      <td>True</td>\n      <td>True</td>\n      <td>True</td>\n      <td>False</td>\n      <td>True</td>\n      <td>...</td>\n      <td>True</td>\n      <td>True</td>\n      <td>True</td>\n      <td>False</td>\n      <td>False</td>\n      <td>False</td>\n      <td>True</td>\n      <td>True</td>\n      <td>True</td>\n      <td>True</td>\n    </tr>\n  </tbody>\n</table>\n<p>64461 rows × 61 columns</p>\n</div>"
     },
     "metadata": {},
     "execution_count": 2
    }
   ],
   "source": [
    "pd.isna(df)"
   ]
  },
  {
   "cell_type": "code",
   "execution_count": 3,
   "metadata": {},
   "outputs": [
    {
     "output_type": "execute_result",
     "data": {
      "text/plain": [
       "0        True\n",
       "1        True\n",
       "2        True\n",
       "3        True\n",
       "4        True\n",
       "         ... \n",
       "64456    True\n",
       "64457    True\n",
       "64458    True\n",
       "64459    True\n",
       "64460    True\n",
       "Length: 64461, dtype: bool"
      ]
     },
     "metadata": {},
     "execution_count": 3
    }
   ],
   "source": [
    "import numpy as np\n",
    "np.amax(pd.isna(df), axis=1)"
   ]
  },
  {
   "cell_type": "code",
   "execution_count": 4,
   "metadata": {},
   "outputs": [
    {
     "output_type": "execute_result",
     "data": {
      "text/plain": [
       "60248"
      ]
     },
     "metadata": {},
     "execution_count": 4
    }
   ],
   "source": [
    "np.amax(pd.isna(df), axis=1).sum()"
   ]
  },
  {
   "cell_type": "code",
   "execution_count": 5,
   "metadata": {},
   "outputs": [
    {
     "output_type": "execute_result",
     "data": {
      "text/plain": [
       "   Respondent                      MainBranch Hobbyist  Age Age1stCode  \\\n",
       "0           1  I am a developer by profession      Yes  NaN         13   \n",
       "1           2  I am a developer by profession       No  NaN         19   \n",
       "2           3     I code primarily as a hobby      Yes  NaN         15   \n",
       "\n",
       "  CompFreq  CompTotal  ConvertedComp             Country    CurrencyDesc  ...  \\\n",
       "0  Monthly        NaN            NaN             Germany   European Euro  ...   \n",
       "1      NaN        NaN            NaN      United Kingdom  Pound sterling  ...   \n",
       "2      NaN        NaN            NaN  Russian Federation             NaN  ...   \n",
       "\n",
       "                   SurveyEase           SurveyLength Trans  \\\n",
       "0  Neither easy nor difficult  Appropriate in length    No   \n",
       "1                         NaN                    NaN   NaN   \n",
       "2  Neither easy nor difficult  Appropriate in length   NaN   \n",
       "\n",
       "                                      UndergradMajor WebframeDesireNextYear  \\\n",
       "0  Computer science, computer engineering, or sof...           ASP.NET Core   \n",
       "1  Computer science, computer engineering, or sof...                    NaN   \n",
       "2                                                NaN                    NaN   \n",
       "\n",
       "     WebframeWorkedWith                             WelcomeChange WorkWeekHrs  \\\n",
       "0  ASP.NET;ASP.NET Core   Just as welcome now as I felt last year        50.0   \n",
       "1                   NaN  Somewhat more welcome now than last year         NaN   \n",
       "2                   NaN  Somewhat more welcome now than last year         NaN   \n",
       "\n",
       "  YearsCode YearsCodePro  \n",
       "0        36           27  \n",
       "1         7            4  \n",
       "2         4          NaN  \n",
       "\n",
       "[3 rows x 61 columns]"
      ],
      "text/html": "<div>\n<style scoped>\n    .dataframe tbody tr th:only-of-type {\n        vertical-align: middle;\n    }\n\n    .dataframe tbody tr th {\n        vertical-align: top;\n    }\n\n    .dataframe thead th {\n        text-align: right;\n    }\n</style>\n<table border=\"1\" class=\"dataframe\">\n  <thead>\n    <tr style=\"text-align: right;\">\n      <th></th>\n      <th>Respondent</th>\n      <th>MainBranch</th>\n      <th>Hobbyist</th>\n      <th>Age</th>\n      <th>Age1stCode</th>\n      <th>CompFreq</th>\n      <th>CompTotal</th>\n      <th>ConvertedComp</th>\n      <th>Country</th>\n      <th>CurrencyDesc</th>\n      <th>...</th>\n      <th>SurveyEase</th>\n      <th>SurveyLength</th>\n      <th>Trans</th>\n      <th>UndergradMajor</th>\n      <th>WebframeDesireNextYear</th>\n      <th>WebframeWorkedWith</th>\n      <th>WelcomeChange</th>\n      <th>WorkWeekHrs</th>\n      <th>YearsCode</th>\n      <th>YearsCodePro</th>\n    </tr>\n  </thead>\n  <tbody>\n    <tr>\n      <th>0</th>\n      <td>1</td>\n      <td>I am a developer by profession</td>\n      <td>Yes</td>\n      <td>NaN</td>\n      <td>13</td>\n      <td>Monthly</td>\n      <td>NaN</td>\n      <td>NaN</td>\n      <td>Germany</td>\n      <td>European Euro</td>\n      <td>...</td>\n      <td>Neither easy nor difficult</td>\n      <td>Appropriate in length</td>\n      <td>No</td>\n      <td>Computer science, computer engineering, or sof...</td>\n      <td>ASP.NET Core</td>\n      <td>ASP.NET;ASP.NET Core</td>\n      <td>Just as welcome now as I felt last year</td>\n      <td>50.0</td>\n      <td>36</td>\n      <td>27</td>\n    </tr>\n    <tr>\n      <th>1</th>\n      <td>2</td>\n      <td>I am a developer by profession</td>\n      <td>No</td>\n      <td>NaN</td>\n      <td>19</td>\n      <td>NaN</td>\n      <td>NaN</td>\n      <td>NaN</td>\n      <td>United Kingdom</td>\n      <td>Pound sterling</td>\n      <td>...</td>\n      <td>NaN</td>\n      <td>NaN</td>\n      <td>NaN</td>\n      <td>Computer science, computer engineering, or sof...</td>\n      <td>NaN</td>\n      <td>NaN</td>\n      <td>Somewhat more welcome now than last year</td>\n      <td>NaN</td>\n      <td>7</td>\n      <td>4</td>\n    </tr>\n    <tr>\n      <th>2</th>\n      <td>3</td>\n      <td>I code primarily as a hobby</td>\n      <td>Yes</td>\n      <td>NaN</td>\n      <td>15</td>\n      <td>NaN</td>\n      <td>NaN</td>\n      <td>NaN</td>\n      <td>Russian Federation</td>\n      <td>NaN</td>\n      <td>...</td>\n      <td>Neither easy nor difficult</td>\n      <td>Appropriate in length</td>\n      <td>NaN</td>\n      <td>NaN</td>\n      <td>NaN</td>\n      <td>NaN</td>\n      <td>Somewhat more welcome now than last year</td>\n      <td>NaN</td>\n      <td>4</td>\n      <td>NaN</td>\n    </tr>\n  </tbody>\n</table>\n<p>3 rows × 61 columns</p>\n</div>"
     },
     "metadata": {},
     "execution_count": 5
    }
   ],
   "source": [
    "df.loc[np.amax(pd.isna(df), axis=1), :].head(n=3)"
   ]
  },
  {
   "cell_type": "code",
   "execution_count": 6,
   "metadata": {},
   "outputs": [
    {
     "output_type": "stream",
     "name": "stdout",
     "text": [
      "<class 'pandas.core.frame.DataFrame'>\nInt64Index: 4213 entries, 9 to 63517\nData columns (total 61 columns):\n #   Column                        Non-Null Count  Dtype  \n---  ------                        --------------  -----  \n 0   Respondent                    4213 non-null   int64  \n 1   MainBranch                    4213 non-null   object \n 2   Hobbyist                      4213 non-null   object \n 3   Age                           4213 non-null   float64\n 4   Age1stCode                    4213 non-null   object \n 5   CompFreq                      4213 non-null   object \n 6   CompTotal                     4213 non-null   float64\n 7   ConvertedComp                 4213 non-null   float64\n 8   Country                       4213 non-null   object \n 9   CurrencyDesc                  4213 non-null   object \n 10  CurrencySymbol                4213 non-null   object \n 11  DatabaseDesireNextYear        4213 non-null   object \n 12  DatabaseWorkedWith            4213 non-null   object \n 13  DevType                       4213 non-null   object \n 14  EdLevel                       4213 non-null   object \n 15  Employment                    4213 non-null   object \n 16  Ethnicity                     4213 non-null   object \n 17  Gender                        4213 non-null   object \n 18  JobFactors                    4213 non-null   object \n 19  JobSat                        4213 non-null   object \n 20  JobSeek                       4213 non-null   object \n 21  LanguageDesireNextYear        4213 non-null   object \n 22  LanguageWorkedWith            4213 non-null   object \n 23  MiscTechDesireNextYear        4213 non-null   object \n 24  MiscTechWorkedWith            4213 non-null   object \n 25  NEWCollabToolsDesireNextYear  4213 non-null   object \n 26  NEWCollabToolsWorkedWith      4213 non-null   object \n 27  NEWDevOps                     4213 non-null   object \n 28  NEWDevOpsImpt                 4213 non-null   object \n 29  NEWEdImpt                     4213 non-null   object \n 30  NEWJobHunt                    4213 non-null   object \n 31  NEWJobHuntResearch            4213 non-null   object \n 32  NEWLearn                      4213 non-null   object \n 33  NEWOffTopic                   4213 non-null   object \n 34  NEWOnboardGood                4213 non-null   object \n 35  NEWOtherComms                 4213 non-null   object \n 36  NEWOvertime                   4213 non-null   object \n 37  NEWPurchaseResearch           4213 non-null   object \n 38  NEWPurpleLink                 4213 non-null   object \n 39  NEWSOSites                    4213 non-null   object \n 40  NEWStuck                      4213 non-null   object \n 41  OpSys                         4213 non-null   object \n 42  OrgSize                       4213 non-null   object \n 43  PlatformDesireNextYear        4213 non-null   object \n 44  PlatformWorkedWith            4213 non-null   object \n 45  PurchaseWhat                  4213 non-null   object \n 46  Sexuality                     4213 non-null   object \n 47  SOAccount                     4213 non-null   object \n 48  SOComm                        4213 non-null   object \n 49  SOPartFreq                    4213 non-null   object \n 50  SOVisitFreq                   4213 non-null   object \n 51  SurveyEase                    4213 non-null   object \n 52  SurveyLength                  4213 non-null   object \n 53  Trans                         4213 non-null   object \n 54  UndergradMajor                4213 non-null   object \n 55  WebframeDesireNextYear        4213 non-null   object \n 56  WebframeWorkedWith            4213 non-null   object \n 57  WelcomeChange                 4213 non-null   object \n 58  WorkWeekHrs                   4213 non-null   float64\n 59  YearsCode                     4213 non-null   object \n 60  YearsCodePro                  4213 non-null   object \ndtypes: float64(4), int64(1), object(56)\nmemory usage: 2.0+ MB\n"
     ]
    }
   ],
   "source": [
    "df.dropna(how=\"any\").info()"
   ]
  },
  {
   "cell_type": "code",
   "execution_count": 7,
   "metadata": {},
   "outputs": [
    {
     "output_type": "execute_result",
     "data": {
      "text/plain": [
       "0         NaN\n",
       "1         NaN\n",
       "2         NaN\n",
       "3        25.0\n",
       "4        31.0\n",
       "         ... \n",
       "64456     NaN\n",
       "64457     NaN\n",
       "64458     NaN\n",
       "64459     NaN\n",
       "64460     NaN\n",
       "Name: Age, Length: 64461, dtype: float64"
      ]
     },
     "metadata": {},
     "execution_count": 7
    }
   ],
   "source": [
    "df[\"Age\"]"
   ]
  },
  {
   "cell_type": "code",
   "execution_count": 8,
   "metadata": {},
   "outputs": [
    {
     "output_type": "execute_result",
     "data": {
      "text/plain": [
       "0        20.0\n",
       "1        20.0\n",
       "2        20.0\n",
       "3        25.0\n",
       "4        31.0\n",
       "         ... \n",
       "64456    20.0\n",
       "64457    20.0\n",
       "64458    20.0\n",
       "64459    20.0\n",
       "64460    20.0\n",
       "Name: Age, Length: 64461, dtype: float64"
      ]
     },
     "metadata": {},
     "execution_count": 8
    }
   ],
   "source": [
    "df[\"Age\"].fillna(value=20)"
   ]
  },
  {
   "cell_type": "code",
   "execution_count": 9,
   "metadata": {},
   "outputs": [
    {
     "output_type": "execute_result",
     "data": {
      "text/plain": [
       "30.83411081283281"
      ]
     },
     "metadata": {},
     "execution_count": 9
    }
   ],
   "source": [
    "df[\"Age\"].mean()"
   ]
  },
  {
   "cell_type": "code",
   "execution_count": 10,
   "metadata": {},
   "outputs": [],
   "source": [
    "df[\"Age\"] = df[\"Age\"].fillna(value=df[\"Age\"].mean())"
   ]
  },
  {
   "cell_type": "code",
   "execution_count": 11,
   "metadata": {},
   "outputs": [
    {
     "output_type": "execute_result",
     "data": {
      "text/plain": [
       "0        30.834111\n",
       "1        30.834111\n",
       "2        30.834111\n",
       "3        25.000000\n",
       "4        31.000000\n",
       "           ...    \n",
       "64456    30.834111\n",
       "64457    30.834111\n",
       "64458    30.834111\n",
       "64459    30.834111\n",
       "64460    30.834111\n",
       "Name: Age, Length: 64461, dtype: float64"
      ]
     },
     "metadata": {},
     "execution_count": 11
    }
   ],
   "source": [
    "df[\"Age\"]"
   ]
  },
  {
   "cell_type": "code",
   "execution_count": null,
   "metadata": {},
   "outputs": [],
   "source": []
  }
 ]
}